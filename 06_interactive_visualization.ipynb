{
 "cells": [
  {
   "cell_type": "markdown",
   "id": "5b52e034-8025-4a78-a5be-2a7c792e6a42",
   "metadata": {},
   "source": [
    "# Overview"
   ]
  },
  {
   "cell_type": "markdown",
   "id": "71c43fde-0a6a-4665-b89d-8fcf11fe8e87",
   "metadata": {},
   "source": [
    "Notebook ini digunakan untuk pengenalan interactive visualization menggunakan plotly"
   ]
  },
  {
   "cell_type": "code",
   "execution_count": null,
   "id": "be525b9b-b29e-4c3f-be8e-86401308e6bb",
   "metadata": {},
   "outputs": [],
   "source": []
  }
 ],
 "metadata": {
  "kernelspec": {
   "display_name": "Python 3 (ipykernel)",
   "language": "python",
   "name": "python3"
  },
  "language_info": {
   "codemirror_mode": {
    "name": "ipython",
    "version": 3
   },
   "file_extension": ".py",
   "mimetype": "text/x-python",
   "name": "python",
   "nbconvert_exporter": "python",
   "pygments_lexer": "ipython3",
   "version": "3.11.13"
  }
 },
 "nbformat": 4,
 "nbformat_minor": 5
}
