{
 "cells": [
  {
   "cell_type": "markdown",
   "id": "15db798e-bf51-45c1-b991-fb9ad65533b2",
   "metadata": {},
   "source": [
    "# Overview"
   ]
  },
  {
   "cell_type": "markdown",
   "id": "e26595e2-6a82-468a-95f5-31532bf0101b",
   "metadata": {},
   "source": [
    "Notebook ini digunakan untuk analisa customer seperti **RFM Analysis** dan **Churn Analysis**"
   ]
  },
  {
   "cell_type": "code",
   "execution_count": null,
   "id": "d6cdeb4d-36fa-493b-855c-f44eb90d1f4c",
   "metadata": {},
   "outputs": [],
   "source": []
  }
 ],
 "metadata": {
  "kernelspec": {
   "display_name": "Python 3 (ipykernel)",
   "language": "python",
   "name": "python3"
  },
  "language_info": {
   "codemirror_mode": {
    "name": "ipython",
    "version": 3
   },
   "file_extension": ".py",
   "mimetype": "text/x-python",
   "name": "python",
   "nbconvert_exporter": "python",
   "pygments_lexer": "ipython3",
   "version": "3.11.13"
  }
 },
 "nbformat": 4,
 "nbformat_minor": 5
}
