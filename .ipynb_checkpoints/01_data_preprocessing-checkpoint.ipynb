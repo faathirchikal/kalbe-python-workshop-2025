{
 "cells": [
  {
   "cell_type": "markdown",
   "id": "572c8a3e-320b-450e-92a3-12cc4e36477b",
   "metadata": {},
   "source": [
    "# Libraries"
   ]
  },
  {
   "cell_type": "code",
   "execution_count": 1,
   "id": "9e56f407-d6be-4c0f-97b3-1740a39f102b",
   "metadata": {},
   "outputs": [],
   "source": [
    "import pandas as pd\n",
    "import matplotlib.pyplot as plt\n",
    "import seaborn as sns\n",
    "from pandas.tseries.frequencies import to_offset"
   ]
  },
  {
   "cell_type": "markdown",
   "id": "9b31999a-4327-43d2-afda-7ef2e1b4a85d",
   "metadata": {},
   "source": [
    "# Import Data"
   ]
  },
  {
   "cell_type": "code",
   "execution_count": 2,
   "id": "51345333-2e76-4094-85e2-9c4b751cc7c9",
   "metadata": {},
   "outputs": [
    {
     "data": {
      "text/html": [
       "<div>\n",
       "<style scoped>\n",
       "    .dataframe tbody tr th:only-of-type {\n",
       "        vertical-align: middle;\n",
       "    }\n",
       "\n",
       "    .dataframe tbody tr th {\n",
       "        vertical-align: top;\n",
       "    }\n",
       "\n",
       "    .dataframe thead th {\n",
       "        text-align: right;\n",
       "    }\n",
       "</style>\n",
       "<table border=\"1\" class=\"dataframe\">\n",
       "  <thead>\n",
       "    <tr style=\"text-align: right;\">\n",
       "      <th></th>\n",
       "      <th>Date</th>\n",
       "      <th>Store ID</th>\n",
       "      <th>Product ID</th>\n",
       "      <th>Category</th>\n",
       "      <th>Region</th>\n",
       "      <th>Inventory Level</th>\n",
       "      <th>Units Sold</th>\n",
       "      <th>Units Ordered</th>\n",
       "      <th>Demand Forecast</th>\n",
       "      <th>Price</th>\n",
       "      <th>Discount</th>\n",
       "      <th>Weather Condition</th>\n",
       "      <th>Holiday/Promotion</th>\n",
       "      <th>Competitor Pricing</th>\n",
       "      <th>Seasonality</th>\n",
       "    </tr>\n",
       "  </thead>\n",
       "  <tbody>\n",
       "    <tr>\n",
       "      <th>0</th>\n",
       "      <td>2022-01-01</td>\n",
       "      <td>S001</td>\n",
       "      <td>P0001</td>\n",
       "      <td>Groceries</td>\n",
       "      <td>North</td>\n",
       "      <td>231</td>\n",
       "      <td>127</td>\n",
       "      <td>55</td>\n",
       "      <td>135.47</td>\n",
       "      <td>33.50</td>\n",
       "      <td>20</td>\n",
       "      <td>Rainy</td>\n",
       "      <td>0</td>\n",
       "      <td>29.69</td>\n",
       "      <td>Autumn</td>\n",
       "    </tr>\n",
       "    <tr>\n",
       "      <th>1</th>\n",
       "      <td>2022-01-01</td>\n",
       "      <td>S001</td>\n",
       "      <td>P0002</td>\n",
       "      <td>Toys</td>\n",
       "      <td>South</td>\n",
       "      <td>204</td>\n",
       "      <td>150</td>\n",
       "      <td>66</td>\n",
       "      <td>144.04</td>\n",
       "      <td>63.01</td>\n",
       "      <td>20</td>\n",
       "      <td>Sunny</td>\n",
       "      <td>0</td>\n",
       "      <td>66.16</td>\n",
       "      <td>Autumn</td>\n",
       "    </tr>\n",
       "    <tr>\n",
       "      <th>2</th>\n",
       "      <td>2022-01-01</td>\n",
       "      <td>S001</td>\n",
       "      <td>P0003</td>\n",
       "      <td>Toys</td>\n",
       "      <td>West</td>\n",
       "      <td>102</td>\n",
       "      <td>65</td>\n",
       "      <td>51</td>\n",
       "      <td>74.02</td>\n",
       "      <td>27.99</td>\n",
       "      <td>10</td>\n",
       "      <td>Sunny</td>\n",
       "      <td>1</td>\n",
       "      <td>31.32</td>\n",
       "      <td>Summer</td>\n",
       "    </tr>\n",
       "    <tr>\n",
       "      <th>3</th>\n",
       "      <td>2022-01-01</td>\n",
       "      <td>S001</td>\n",
       "      <td>P0004</td>\n",
       "      <td>Toys</td>\n",
       "      <td>North</td>\n",
       "      <td>469</td>\n",
       "      <td>61</td>\n",
       "      <td>164</td>\n",
       "      <td>62.18</td>\n",
       "      <td>32.72</td>\n",
       "      <td>10</td>\n",
       "      <td>Cloudy</td>\n",
       "      <td>1</td>\n",
       "      <td>34.74</td>\n",
       "      <td>Autumn</td>\n",
       "    </tr>\n",
       "    <tr>\n",
       "      <th>4</th>\n",
       "      <td>2022-01-01</td>\n",
       "      <td>S001</td>\n",
       "      <td>P0005</td>\n",
       "      <td>Electronics</td>\n",
       "      <td>East</td>\n",
       "      <td>166</td>\n",
       "      <td>14</td>\n",
       "      <td>135</td>\n",
       "      <td>9.26</td>\n",
       "      <td>73.64</td>\n",
       "      <td>0</td>\n",
       "      <td>Sunny</td>\n",
       "      <td>0</td>\n",
       "      <td>68.95</td>\n",
       "      <td>Summer</td>\n",
       "    </tr>\n",
       "  </tbody>\n",
       "</table>\n",
       "</div>"
      ],
      "text/plain": [
       "         Date Store ID Product ID     Category Region  Inventory Level  \\\n",
       "0  2022-01-01     S001      P0001    Groceries  North              231   \n",
       "1  2022-01-01     S001      P0002         Toys  South              204   \n",
       "2  2022-01-01     S001      P0003         Toys   West              102   \n",
       "3  2022-01-01     S001      P0004         Toys  North              469   \n",
       "4  2022-01-01     S001      P0005  Electronics   East              166   \n",
       "\n",
       "   Units Sold  Units Ordered  Demand Forecast  Price  Discount  \\\n",
       "0         127             55           135.47  33.50        20   \n",
       "1         150             66           144.04  63.01        20   \n",
       "2          65             51            74.02  27.99        10   \n",
       "3          61            164            62.18  32.72        10   \n",
       "4          14            135             9.26  73.64         0   \n",
       "\n",
       "  Weather Condition  Holiday/Promotion  Competitor Pricing Seasonality  \n",
       "0             Rainy                  0               29.69      Autumn  \n",
       "1             Sunny                  0               66.16      Autumn  \n",
       "2             Sunny                  1               31.32      Summer  \n",
       "3            Cloudy                  1               34.74      Autumn  \n",
       "4             Sunny                  0               68.95      Summer  "
      ]
     },
     "execution_count": 2,
     "metadata": {},
     "output_type": "execute_result"
    }
   ],
   "source": [
    "df = pd.read_csv(\"data/raw/retail_store_inventory.csv\") # Load csv data\n",
    "df.head() # see snipset data"
   ]
  },
  {
   "cell_type": "markdown",
   "id": "70d7a340-9f80-4906-b0e5-13278f81143d",
   "metadata": {},
   "source": [
    "# Data Inspection "
   ]
  },
  {
   "cell_type": "markdown",
   "id": "37b4f2be-f1f2-460b-b2a7-7a70b2312b7f",
   "metadata": {},
   "source": [
    "## Data Structure"
   ]
  },
  {
   "cell_type": "code",
   "execution_count": 3,
   "id": "18858199-c1dd-4b39-a8dd-9ad6bb9aa832",
   "metadata": {},
   "outputs": [
    {
     "name": "stdout",
     "output_type": "stream",
     "text": [
      "Shape: (73100, 15)\n",
      "<class 'pandas.core.frame.DataFrame'>\n",
      "RangeIndex: 73100 entries, 0 to 73099\n",
      "Data columns (total 15 columns):\n",
      " #   Column              Non-Null Count  Dtype  \n",
      "---  ------              --------------  -----  \n",
      " 0   Date                73100 non-null  object \n",
      " 1   Store ID            73100 non-null  object \n",
      " 2   Product ID          73100 non-null  object \n",
      " 3   Category            73100 non-null  object \n",
      " 4   Region              73100 non-null  object \n",
      " 5   Inventory Level     73100 non-null  int64  \n",
      " 6   Units Sold          73100 non-null  int64  \n",
      " 7   Units Ordered       73100 non-null  int64  \n",
      " 8   Demand Forecast     73100 non-null  float64\n",
      " 9   Price               73100 non-null  float64\n",
      " 10  Discount            73100 non-null  int64  \n",
      " 11  Weather Condition   73100 non-null  object \n",
      " 12  Holiday/Promotion   73100 non-null  int64  \n",
      " 13  Competitor Pricing  73100 non-null  float64\n",
      " 14  Seasonality         73100 non-null  object \n",
      "dtypes: float64(3), int64(5), object(7)\n",
      "memory usage: 8.4+ MB\n"
     ]
    }
   ],
   "source": [
    "print(\"Shape:\", df.shape)            # rows × cols \n",
    "df.info()                            # dtypes + non-null counts"
   ]
  },
  {
   "cell_type": "markdown",
   "id": "3b8e7f19-cbcb-4e19-833b-d141f7170779",
   "metadata": {},
   "source": [
    "- Terdapat 73.100 baris data\n",
    "- Terdapat 15 kolom\n",
    "- Tidak ada null values dari setiap kolom "
   ]
  },
  {
   "cell_type": "markdown",
   "id": "709ecc26-6c65-401d-acae-cd16366a8818",
   "metadata": {},
   "source": [
    "## Standardize Column Name"
   ]
  },
  {
   "cell_type": "code",
   "execution_count": 4,
   "id": "2189b79f-87a2-4ee6-a2a4-ab33cadb68ba",
   "metadata": {},
   "outputs": [
    {
     "name": "stdout",
     "output_type": "stream",
     "text": [
      "['date', 'store_id', 'product_id', 'category', 'region', 'inventory_level', 'units_sold', 'units_ordered', 'demand_forecast', 'price', 'discount', 'weather_condition', 'holiday_promotion', 'competitor_pricing', 'seasonality']\n"
     ]
    }
   ],
   "source": [
    "def clean_cols(cols: pd.Index) -> pd.Index:\n",
    "    \"\"\"\n",
    "    Convert to lowercase, strip leading/trailing spaces,\n",
    "    replace internal spaces with _, and drop illegal chars.\n",
    "    \"\"\"\n",
    "    return (\n",
    "        cols.str.strip()               # remove leading/trailing whitespace\n",
    "            .str.lower()               # to lowercase\n",
    "            .str.replace(r\"[^\\w\\s]\", \"_\", regex=True)  # drop punctuation\n",
    "            .str.replace(r\"\\s+\", \"_\",  regex=True)    # spaces → underscore\n",
    "    )\n",
    "\n",
    "df.columns = clean_cols(df.columns)\n",
    "\n",
    "# Quick sanity check\n",
    "print(df.columns.tolist())"
   ]
  },
  {
   "cell_type": "markdown",
   "id": "49d30606-20e5-4865-8136-51b38937aa36",
   "metadata": {},
   "source": [
    "## Correcting Data Format"
   ]
  },
  {
   "cell_type": "markdown",
   "id": "4a51837f-e1e1-4662-ba08-aeccb7a4c891",
   "metadata": {},
   "source": [
    "- Kolom \"Date\" masih dalam bentuk string sehingga perlu diubah\n",
    "- (optional) Mengubah kolom Nominal & ID menjadi type categorical\n",
    "- (optional) Mengubah kolom boolean menjadi type boolean\n",
    "- (optional) Convert kolom numeric "
   ]
  },
  {
   "cell_type": "code",
   "execution_count": 5,
   "id": "e80b286e-311c-45ab-ad21-c88bec486594",
   "metadata": {},
   "outputs": [],
   "source": [
    "# Change date column from object to datetime\n",
    "df[\"date\"] = pd.to_datetime(df[\"date\"], errors=\"coerce\")             \n",
    "\n",
    "# Change Nominals & IDs from object to category → category to shrink memory and speed joins\n",
    "cat_cols = [\n",
    "    \"store_id\", \"product_id\", \"category\",\n",
    "    \"region\", \"weather_condition\", \"seasonality\"\n",
    "]\n",
    "df[cat_cols] = df[cat_cols].astype(\"category\")\n",
    "\n",
    "\n",
    "# Change Binary flag to boolean\n",
    "df[\"holiday_promotion\"] = df[\"holiday_promotion\"].astype(\"bool\")\n",
    "\n",
    "# Make sure numeric columns are truly numeric\n",
    "num_cols = [\n",
    "    \"inventory_level\", \"units_sold\", \"units_ordered\",\n",
    "    \"demand_forecast\", \"price\", \"discount\",\n",
    "    \"competitor_pricing\"\n",
    "]\n",
    "df[num_cols] = df[num_cols].apply(pd.to_numeric, errors=\"coerce\")"
   ]
  },
  {
   "cell_type": "code",
   "execution_count": 6,
   "id": "edf63d24-bb63-4da3-9fd2-a93a6f8d9397",
   "metadata": {},
   "outputs": [
    {
     "name": "stdout",
     "output_type": "stream",
     "text": [
      "<class 'pandas.core.frame.DataFrame'>\n",
      "RangeIndex: 73100 entries, 0 to 73099\n",
      "Data columns (total 15 columns):\n",
      " #   Column              Non-Null Count  Dtype         \n",
      "---  ------              --------------  -----         \n",
      " 0   date                73100 non-null  datetime64[ns]\n",
      " 1   store_id            73100 non-null  category      \n",
      " 2   product_id          73100 non-null  category      \n",
      " 3   category            73100 non-null  category      \n",
      " 4   region              73100 non-null  category      \n",
      " 5   inventory_level     73100 non-null  int64         \n",
      " 6   units_sold          73100 non-null  int64         \n",
      " 7   units_ordered       73100 non-null  int64         \n",
      " 8   demand_forecast     73100 non-null  float64       \n",
      " 9   price               73100 non-null  float64       \n",
      " 10  discount            73100 non-null  int64         \n",
      " 11  weather_condition   73100 non-null  category      \n",
      " 12  holiday_promotion   73100 non-null  bool          \n",
      " 13  competitor_pricing  73100 non-null  float64       \n",
      " 14  seasonality         73100 non-null  category      \n",
      "dtypes: bool(1), category(6), datetime64[ns](1), float64(3), int64(4)\n",
      "memory usage: 5.0 MB\n"
     ]
    }
   ],
   "source": [
    "df.info()"
   ]
  },
  {
   "cell_type": "markdown",
   "id": "1d7cef77-3cfa-4007-850d-fa43c04dd6eb",
   "metadata": {},
   "source": [
    "## Data Cardinality"
   ]
  },
  {
   "cell_type": "code",
   "execution_count": 7,
   "id": "952d5069-b8f2-48d2-9896-168732beb23a",
   "metadata": {},
   "outputs": [
    {
     "name": "stdout",
     "output_type": "stream",
     "text": [
      "Categorical cardinality\n",
      "——————————————————————————————\n",
      "product_id               :       20 (['P0001', 'P0002', 'P0003', 'P0004', 'P0005', 'P0006', 'P0007', 'P0008', 'P0009', 'P0010', 'P0011', 'P0012', 'P0013', 'P0014', 'P0015', 'P0016', 'P0017', 'P0018', 'P0019', 'P0020'])\n",
      "store_id                 :        5 (['S001', 'S002', 'S003', 'S004', 'S005'])\n",
      "category                 :        5 (['Groceries', 'Toys', 'Electronics', 'Furniture', 'Clothing'])\n",
      "region                   :        4 (['North', 'South', 'West', 'East'])\n",
      "weather_condition        :        4 (['Rainy', 'Sunny', 'Cloudy', 'Snowy'])\n",
      "seasonality              :        4 (['Autumn', 'Summer', 'Winter', 'Spring'])\n"
     ]
    }
   ],
   "source": [
    "# categorical uniqueness\n",
    "cat_cols = df.select_dtypes(include=[\"object\", \"category\"]).columns\n",
    "nunique  = df[cat_cols].nunique().sort_values(ascending=False)\n",
    "\n",
    "print(\"Categorical cardinality\")\n",
    "print(\"—\" * 30)\n",
    "for col, n in nunique.items():\n",
    "    print(f\"{col:<25s}: {n:>8,d} ({df[col].unique().tolist()})\")\n",
    "\n"
   ]
  },
  {
   "cell_type": "code",
   "execution_count": 8,
   "id": "7194dc9c-9566-4a45-9c58-703b57708967",
   "metadata": {},
   "outputs": [
    {
     "name": "stdout",
     "output_type": "stream",
     "text": [
      "Date span\n",
      "——————————————\n",
      "Start : 2022-01-01\n",
      "End   : 2024-01-01\n"
     ]
    }
   ],
   "source": [
    "print(\"Date span\")\n",
    "print(\"—\" * 14)\n",
    "print(f'Start : {df[\"date\"].min().date()}')\n",
    "print(f'End   : {df[\"date\"].max().date()}')"
   ]
  },
  {
   "cell_type": "markdown",
   "id": "e36311cc-b50c-4b00-9bc4-d84294d45db4",
   "metadata": {},
   "source": [
    "## Filtering Out Irrelevant Variables"
   ]
  },
  {
   "cell_type": "markdown",
   "id": "5aeee3b9-5fc4-473b-b8c7-f3a43ef0fe3f",
   "metadata": {},
   "source": [
    "Drop kolom yang tidak diperlukan untuk forecasting"
   ]
  },
  {
   "cell_type": "code",
   "execution_count": 9,
   "id": "109b1cc3-df73-4108-8f63-57d5b292dbd6",
   "metadata": {},
   "outputs": [],
   "source": [
    "drop_columns = [\"inventory_level\", \"demand_forecast\"]\n",
    "df.drop(columns = drop_columns, inplace = True)"
   ]
  },
  {
   "cell_type": "markdown",
   "id": "7443921b-3bd2-4666-b58d-fff14bc96e17",
   "metadata": {},
   "source": [
    "## Create Unique ID"
   ]
  },
  {
   "cell_type": "code",
   "execution_count": 10,
   "id": "2f7ca87f-8199-4b65-8fb5-10fe8e319701",
   "metadata": {},
   "outputs": [],
   "source": [
    "# Create series_id\n",
    "df[\"series_id\"] = (\n",
    "    df[\"store_id\"].astype(str) + \"_\" +\n",
    "    df[\"product_id\"].astype(str)\n",
    ")"
   ]
  },
  {
   "cell_type": "code",
   "execution_count": 11,
   "id": "646b14c3-aebe-4ac9-b349-6ad3667ced4e",
   "metadata": {},
   "outputs": [],
   "source": [
    "def detect_frequency(\n",
    "        dates: pd.Series | pd.DatetimeIndex,\n",
    "        threshold: float = 0.9\n",
    "    ) -> str:\n",
    "    \"\"\"\n",
    "    Guess the dominant calendar frequency in a time series.\n",
    "\n",
    "    Parameters\n",
    "    ----------\n",
    "    dates : Series or DatetimeIndex\n",
    "        Unsorted or sorted datetime values (duplicates ok).\n",
    "    threshold : float\n",
    "        Share of intervals that must agree to accept a frequency.\n",
    "\n",
    "    Returns\n",
    "    -------\n",
    "    str\n",
    "        A pandas offset alias like 'D', 'W', 'M', 'H', or 'UNKNOWN'.\n",
    "    \"\"\"\n",
    "    # 1) Drop duplicates & sort\n",
    "    uniq = pd.Series(dates if isinstance(dates, pd.DatetimeIndex) else dates.values).drop_duplicates().sort_values()\n",
    "\n",
    "    # Edge case: < 3 timestamps → frequency undetermined\n",
    "    if len(uniq) < 3:\n",
    "        return \"UNKNOWN\"\n",
    "\n",
    "    # 2) Try pandas' built-in strict inferrer\n",
    "    freq = pd.infer_freq(uniq)\n",
    "    if freq is not None:\n",
    "        return freq      # e.g. 'D', 'W-SUN', etc.\n",
    "\n",
    "    # 3) Heuristic: modal time delta\n",
    "    deltas = uniq.diff().dropna()\n",
    "    mode_delta = deltas.mode()[0]           # most common timedelta\n",
    "\n",
    "    # How dominant is that mode?\n",
    "    share = (deltas == mode_delta).mean()\n",
    "    if share < threshold:\n",
    "        return \"IRREGULAR\"\n",
    "\n",
    "    # Translate timedelta to offset alias\n",
    "    try:\n",
    "        return to_offset(mode_delta).name   # e.g. 'D', 'W', 'H'\n",
    "    except ValueError:\n",
    "        return \"UNKNOWN\"\n"
   ]
  },
  {
   "cell_type": "code",
   "execution_count": 12,
   "id": "655872e4-ef16-4f4f-b5ad-931d690a3d79",
   "metadata": {},
   "outputs": [
    {
     "name": "stdout",
     "output_type": "stream",
     "text": [
      "Global calendar frequency → D\n"
     ]
    }
   ],
   "source": [
    "# Check frequency time series\n",
    "global_freq = detect_frequency(df[\"date\"])\n",
    "print(\"Global calendar frequency →\", global_freq)"
   ]
  },
  {
   "cell_type": "code",
   "execution_count": 13,
   "id": "e1e6aeef-37db-4500-b450-b76d7ae3b39a",
   "metadata": {},
   "outputs": [
    {
     "data": {
      "text/html": [
       "<div>\n",
       "<style scoped>\n",
       "    .dataframe tbody tr th:only-of-type {\n",
       "        vertical-align: middle;\n",
       "    }\n",
       "\n",
       "    .dataframe tbody tr th {\n",
       "        vertical-align: top;\n",
       "    }\n",
       "\n",
       "    .dataframe thead th {\n",
       "        text-align: right;\n",
       "    }\n",
       "</style>\n",
       "<table border=\"1\" class=\"dataframe\">\n",
       "  <thead>\n",
       "    <tr style=\"text-align: right;\">\n",
       "      <th></th>\n",
       "      <th>date</th>\n",
       "      <th>store_id</th>\n",
       "      <th>product_id</th>\n",
       "      <th>category</th>\n",
       "      <th>region</th>\n",
       "      <th>units_sold</th>\n",
       "      <th>units_ordered</th>\n",
       "      <th>price</th>\n",
       "      <th>discount</th>\n",
       "      <th>weather_condition</th>\n",
       "      <th>holiday_promotion</th>\n",
       "      <th>competitor_pricing</th>\n",
       "      <th>seasonality</th>\n",
       "      <th>series_id</th>\n",
       "    </tr>\n",
       "  </thead>\n",
       "  <tbody>\n",
       "    <tr>\n",
       "      <th>13</th>\n",
       "      <td>2022-01-01</td>\n",
       "      <td>S001</td>\n",
       "      <td>P0014</td>\n",
       "      <td>Clothing</td>\n",
       "      <td>West</td>\n",
       "      <td>12</td>\n",
       "      <td>187</td>\n",
       "      <td>78.11</td>\n",
       "      <td>0</td>\n",
       "      <td>Sunny</td>\n",
       "      <td>False</td>\n",
       "      <td>80.06</td>\n",
       "      <td>Spring</td>\n",
       "      <td>S001_P0014</td>\n",
       "    </tr>\n",
       "    <tr>\n",
       "      <th>113</th>\n",
       "      <td>2022-01-02</td>\n",
       "      <td>S001</td>\n",
       "      <td>P0014</td>\n",
       "      <td>Electronics</td>\n",
       "      <td>West</td>\n",
       "      <td>25</td>\n",
       "      <td>20</td>\n",
       "      <td>31.41</td>\n",
       "      <td>0</td>\n",
       "      <td>Cloudy</td>\n",
       "      <td>True</td>\n",
       "      <td>28.60</td>\n",
       "      <td>Spring</td>\n",
       "      <td>S001_P0014</td>\n",
       "    </tr>\n",
       "    <tr>\n",
       "      <th>213</th>\n",
       "      <td>2022-01-03</td>\n",
       "      <td>S001</td>\n",
       "      <td>P0014</td>\n",
       "      <td>Toys</td>\n",
       "      <td>South</td>\n",
       "      <td>242</td>\n",
       "      <td>145</td>\n",
       "      <td>32.28</td>\n",
       "      <td>10</td>\n",
       "      <td>Rainy</td>\n",
       "      <td>True</td>\n",
       "      <td>30.10</td>\n",
       "      <td>Winter</td>\n",
       "      <td>S001_P0014</td>\n",
       "    </tr>\n",
       "    <tr>\n",
       "      <th>313</th>\n",
       "      <td>2022-01-04</td>\n",
       "      <td>S001</td>\n",
       "      <td>P0014</td>\n",
       "      <td>Clothing</td>\n",
       "      <td>East</td>\n",
       "      <td>7</td>\n",
       "      <td>76</td>\n",
       "      <td>98.28</td>\n",
       "      <td>15</td>\n",
       "      <td>Cloudy</td>\n",
       "      <td>True</td>\n",
       "      <td>95.38</td>\n",
       "      <td>Spring</td>\n",
       "      <td>S001_P0014</td>\n",
       "    </tr>\n",
       "    <tr>\n",
       "      <th>413</th>\n",
       "      <td>2022-01-05</td>\n",
       "      <td>S001</td>\n",
       "      <td>P0014</td>\n",
       "      <td>Toys</td>\n",
       "      <td>North</td>\n",
       "      <td>161</td>\n",
       "      <td>171</td>\n",
       "      <td>12.66</td>\n",
       "      <td>15</td>\n",
       "      <td>Rainy</td>\n",
       "      <td>True</td>\n",
       "      <td>12.38</td>\n",
       "      <td>Autumn</td>\n",
       "      <td>S001_P0014</td>\n",
       "    </tr>\n",
       "    <tr>\n",
       "      <th>513</th>\n",
       "      <td>2022-01-06</td>\n",
       "      <td>S001</td>\n",
       "      <td>P0014</td>\n",
       "      <td>Furniture</td>\n",
       "      <td>South</td>\n",
       "      <td>100</td>\n",
       "      <td>86</td>\n",
       "      <td>46.65</td>\n",
       "      <td>10</td>\n",
       "      <td>Rainy</td>\n",
       "      <td>False</td>\n",
       "      <td>43.83</td>\n",
       "      <td>Winter</td>\n",
       "      <td>S001_P0014</td>\n",
       "    </tr>\n",
       "    <tr>\n",
       "      <th>613</th>\n",
       "      <td>2022-01-07</td>\n",
       "      <td>S001</td>\n",
       "      <td>P0014</td>\n",
       "      <td>Electronics</td>\n",
       "      <td>East</td>\n",
       "      <td>115</td>\n",
       "      <td>86</td>\n",
       "      <td>51.17</td>\n",
       "      <td>0</td>\n",
       "      <td>Cloudy</td>\n",
       "      <td>True</td>\n",
       "      <td>54.34</td>\n",
       "      <td>Spring</td>\n",
       "      <td>S001_P0014</td>\n",
       "    </tr>\n",
       "    <tr>\n",
       "      <th>713</th>\n",
       "      <td>2022-01-08</td>\n",
       "      <td>S001</td>\n",
       "      <td>P0014</td>\n",
       "      <td>Furniture</td>\n",
       "      <td>South</td>\n",
       "      <td>142</td>\n",
       "      <td>158</td>\n",
       "      <td>49.74</td>\n",
       "      <td>5</td>\n",
       "      <td>Cloudy</td>\n",
       "      <td>False</td>\n",
       "      <td>53.24</td>\n",
       "      <td>Summer</td>\n",
       "      <td>S001_P0014</td>\n",
       "    </tr>\n",
       "    <tr>\n",
       "      <th>813</th>\n",
       "      <td>2022-01-09</td>\n",
       "      <td>S001</td>\n",
       "      <td>P0014</td>\n",
       "      <td>Electronics</td>\n",
       "      <td>East</td>\n",
       "      <td>51</td>\n",
       "      <td>63</td>\n",
       "      <td>78.24</td>\n",
       "      <td>5</td>\n",
       "      <td>Snowy</td>\n",
       "      <td>False</td>\n",
       "      <td>79.19</td>\n",
       "      <td>Summer</td>\n",
       "      <td>S001_P0014</td>\n",
       "    </tr>\n",
       "    <tr>\n",
       "      <th>913</th>\n",
       "      <td>2022-01-10</td>\n",
       "      <td>S001</td>\n",
       "      <td>P0014</td>\n",
       "      <td>Furniture</td>\n",
       "      <td>West</td>\n",
       "      <td>269</td>\n",
       "      <td>139</td>\n",
       "      <td>24.95</td>\n",
       "      <td>0</td>\n",
       "      <td>Snowy</td>\n",
       "      <td>True</td>\n",
       "      <td>22.85</td>\n",
       "      <td>Autumn</td>\n",
       "      <td>S001_P0014</td>\n",
       "    </tr>\n",
       "  </tbody>\n",
       "</table>\n",
       "</div>"
      ],
      "text/plain": [
       "          date store_id product_id     category region  units_sold  \\\n",
       "13  2022-01-01     S001      P0014     Clothing   West          12   \n",
       "113 2022-01-02     S001      P0014  Electronics   West          25   \n",
       "213 2022-01-03     S001      P0014         Toys  South         242   \n",
       "313 2022-01-04     S001      P0014     Clothing   East           7   \n",
       "413 2022-01-05     S001      P0014         Toys  North         161   \n",
       "513 2022-01-06     S001      P0014    Furniture  South         100   \n",
       "613 2022-01-07     S001      P0014  Electronics   East         115   \n",
       "713 2022-01-08     S001      P0014    Furniture  South         142   \n",
       "813 2022-01-09     S001      P0014  Electronics   East          51   \n",
       "913 2022-01-10     S001      P0014    Furniture   West         269   \n",
       "\n",
       "     units_ordered  price  discount weather_condition  holiday_promotion  \\\n",
       "13             187  78.11         0             Sunny              False   \n",
       "113             20  31.41         0            Cloudy               True   \n",
       "213            145  32.28        10             Rainy               True   \n",
       "313             76  98.28        15            Cloudy               True   \n",
       "413            171  12.66        15             Rainy               True   \n",
       "513             86  46.65        10             Rainy              False   \n",
       "613             86  51.17         0            Cloudy               True   \n",
       "713            158  49.74         5            Cloudy              False   \n",
       "813             63  78.24         5             Snowy              False   \n",
       "913            139  24.95         0             Snowy               True   \n",
       "\n",
       "     competitor_pricing seasonality   series_id  \n",
       "13                80.06      Spring  S001_P0014  \n",
       "113               28.60      Spring  S001_P0014  \n",
       "213               30.10      Winter  S001_P0014  \n",
       "313               95.38      Spring  S001_P0014  \n",
       "413               12.38      Autumn  S001_P0014  \n",
       "513               43.83      Winter  S001_P0014  \n",
       "613               54.34      Spring  S001_P0014  \n",
       "713               53.24      Summer  S001_P0014  \n",
       "813               79.19      Summer  S001_P0014  \n",
       "913               22.85      Autumn  S001_P0014  "
      ]
     },
     "execution_count": 13,
     "metadata": {},
     "output_type": "execute_result"
    }
   ],
   "source": [
    "# Sampling 1 series\n",
    "df[df[\"series_id\"].isin(df[\"series_id\"].sample(1))].sort_values(by = \"date\").head(10)"
   ]
  },
  {
   "cell_type": "markdown",
   "id": "e1f56264-ea93-4036-ab33-8f0bcfc29af1",
   "metadata": {},
   "source": [
    "## Create Full Datetime in Each Series"
   ]
  },
  {
   "cell_type": "code",
   "execution_count": 14,
   "id": "4801a76a-4116-4c3c-8323-4db6957a1a93",
   "metadata": {},
   "outputs": [
    {
     "name": "stderr",
     "output_type": "stream",
     "text": [
      "/tmp/ipykernel_3998968/2362737220.py:35: DeprecationWarning: DataFrameGroupBy.apply operated on the grouping columns. This behavior is deprecated, and in a future version of pandas the grouping columns will be excluded from the operation. Either pass `include_groups=False` to exclude the groupings or explicitly select the grouping columns after groupby to silence this warning.\n",
      "  .apply(reindex_and_trim)\n"
     ]
    },
    {
     "data": {
      "text/html": [
       "<div>\n",
       "<style scoped>\n",
       "    .dataframe tbody tr th:only-of-type {\n",
       "        vertical-align: middle;\n",
       "    }\n",
       "\n",
       "    .dataframe tbody tr th {\n",
       "        vertical-align: top;\n",
       "    }\n",
       "\n",
       "    .dataframe thead th {\n",
       "        text-align: right;\n",
       "    }\n",
       "</style>\n",
       "<table border=\"1\" class=\"dataframe\">\n",
       "  <thead>\n",
       "    <tr style=\"text-align: right;\">\n",
       "      <th></th>\n",
       "      <th>date</th>\n",
       "      <th>store_id</th>\n",
       "      <th>product_id</th>\n",
       "      <th>category</th>\n",
       "      <th>region</th>\n",
       "      <th>units_sold</th>\n",
       "      <th>units_ordered</th>\n",
       "      <th>price</th>\n",
       "      <th>discount</th>\n",
       "      <th>weather_condition</th>\n",
       "      <th>holiday_promotion</th>\n",
       "      <th>competitor_pricing</th>\n",
       "      <th>seasonality</th>\n",
       "      <th>series_id</th>\n",
       "    </tr>\n",
       "  </thead>\n",
       "  <tbody>\n",
       "    <tr>\n",
       "      <th>0</th>\n",
       "      <td>2022-01-01</td>\n",
       "      <td>S001</td>\n",
       "      <td>P0001</td>\n",
       "      <td>Groceries</td>\n",
       "      <td>North</td>\n",
       "      <td>127</td>\n",
       "      <td>55</td>\n",
       "      <td>33.50</td>\n",
       "      <td>20</td>\n",
       "      <td>Rainy</td>\n",
       "      <td>False</td>\n",
       "      <td>29.69</td>\n",
       "      <td>Autumn</td>\n",
       "      <td>S001_P0001</td>\n",
       "    </tr>\n",
       "    <tr>\n",
       "      <th>1</th>\n",
       "      <td>2022-01-02</td>\n",
       "      <td>S001</td>\n",
       "      <td>P0001</td>\n",
       "      <td>Groceries</td>\n",
       "      <td>North</td>\n",
       "      <td>81</td>\n",
       "      <td>104</td>\n",
       "      <td>27.95</td>\n",
       "      <td>10</td>\n",
       "      <td>Cloudy</td>\n",
       "      <td>False</td>\n",
       "      <td>30.89</td>\n",
       "      <td>Spring</td>\n",
       "      <td>S001_P0001</td>\n",
       "    </tr>\n",
       "    <tr>\n",
       "      <th>2</th>\n",
       "      <td>2022-01-03</td>\n",
       "      <td>S001</td>\n",
       "      <td>P0001</td>\n",
       "      <td>Groceries</td>\n",
       "      <td>North</td>\n",
       "      <td>5</td>\n",
       "      <td>189</td>\n",
       "      <td>62.70</td>\n",
       "      <td>20</td>\n",
       "      <td>Rainy</td>\n",
       "      <td>False</td>\n",
       "      <td>58.22</td>\n",
       "      <td>Winter</td>\n",
       "      <td>S001_P0001</td>\n",
       "    </tr>\n",
       "    <tr>\n",
       "      <th>3</th>\n",
       "      <td>2022-01-04</td>\n",
       "      <td>S001</td>\n",
       "      <td>P0001</td>\n",
       "      <td>Groceries</td>\n",
       "      <td>North</td>\n",
       "      <td>58</td>\n",
       "      <td>193</td>\n",
       "      <td>77.88</td>\n",
       "      <td>15</td>\n",
       "      <td>Cloudy</td>\n",
       "      <td>True</td>\n",
       "      <td>75.99</td>\n",
       "      <td>Winter</td>\n",
       "      <td>S001_P0001</td>\n",
       "    </tr>\n",
       "    <tr>\n",
       "      <th>4</th>\n",
       "      <td>2022-01-05</td>\n",
       "      <td>S001</td>\n",
       "      <td>P0001</td>\n",
       "      <td>Groceries</td>\n",
       "      <td>North</td>\n",
       "      <td>147</td>\n",
       "      <td>37</td>\n",
       "      <td>28.46</td>\n",
       "      <td>20</td>\n",
       "      <td>Sunny</td>\n",
       "      <td>True</td>\n",
       "      <td>29.40</td>\n",
       "      <td>Winter</td>\n",
       "      <td>S001_P0001</td>\n",
       "    </tr>\n",
       "  </tbody>\n",
       "</table>\n",
       "</div>"
      ],
      "text/plain": [
       "        date store_id product_id   category region  units_sold  units_ordered  \\\n",
       "0 2022-01-01     S001      P0001  Groceries  North         127             55   \n",
       "1 2022-01-02     S001      P0001  Groceries  North          81            104   \n",
       "2 2022-01-03     S001      P0001  Groceries  North           5            189   \n",
       "3 2022-01-04     S001      P0001  Groceries  North          58            193   \n",
       "4 2022-01-05     S001      P0001  Groceries  North         147             37   \n",
       "\n",
       "   price  discount weather_condition  holiday_promotion  competitor_pricing  \\\n",
       "0  33.50        20             Rainy              False               29.69   \n",
       "1  27.95        10            Cloudy              False               30.89   \n",
       "2  62.70        20             Rainy              False               58.22   \n",
       "3  77.88        15            Cloudy               True               75.99   \n",
       "4  28.46        20             Sunny               True               29.40   \n",
       "\n",
       "  seasonality   series_id  \n",
       "0      Autumn  S001_P0001  \n",
       "1      Spring  S001_P0001  \n",
       "2      Winter  S001_P0001  \n",
       "3      Winter  S001_P0001  \n",
       "4      Winter  S001_P0001  "
      ]
     },
     "metadata": {},
     "output_type": "display_data"
    }
   ],
   "source": [
    "# Global date span\n",
    "global_start = df[\"date\"].min()\n",
    "global_end   = df[\"date\"].max()\n",
    "\n",
    "# Full calendar\n",
    "full_calendar = pd.DataFrame({\"date\": pd.date_range(global_start, global_end, freq=\"D\")})\n",
    "\n",
    "def reindex_and_trim(group: pd.DataFrame) -> pd.DataFrame:\n",
    "    \"\"\"\n",
    "    For one (store_id, product_id) group:\n",
    "\n",
    "    1) Left-join onto full_calendar  → inserts missing dates.\n",
    "    2) Fill store_id, product_id, category, region for the new rows.\n",
    "    3) Drop dates that precede the group’s first real transaction.\n",
    "    \"\"\"\n",
    "    # 1) Join to calendar  (all columns stay, NaNs appear where gaps exist)\n",
    "    g = full_calendar.merge(group, on=\"date\", how=\"left\")\n",
    "\n",
    "    # 2) Fill key identifiers from the group's first non-null row\n",
    "    first_row = group.iloc[0]\n",
    "    g[\"store_id\"]   = first_row[\"store_id\"]\n",
    "    g[\"product_id\"] = first_row[\"product_id\"]\n",
    "    g[\"category\"]   = first_row[\"category\"]\n",
    "    g[\"region\"]     = first_row[\"region\"]\n",
    "    g[\"series_id\"]        = first_row[\"series_id\"]        # optional but handy\n",
    "\n",
    "    # 3) Trim everything before the first actual sale\n",
    "    first_txn_date = group[\"date\"].min()\n",
    "    g = g[g[\"date\"] >= first_txn_date]\n",
    "\n",
    "    return g\n",
    "    \n",
    "df = (\n",
    "    df.groupby(\"series_id\", group_keys=False)\n",
    "      .apply(reindex_and_trim)\n",
    "      .sort_values([\"series_id\", \"date\"])\n",
    "      .reset_index(drop=True)\n",
    ")\n",
    "\n",
    "display(df.head())\n"
   ]
  },
  {
   "cell_type": "markdown",
   "id": "bc536e97-1e89-4e48-85d2-142a9d521bf8",
   "metadata": {},
   "source": [
    "## Missing Value"
   ]
  },
  {
   "cell_type": "code",
   "execution_count": 15,
   "id": "a71e226d-09e2-44e9-b284-91075d0d39b7",
   "metadata": {},
   "outputs": [
    {
     "name": "stdout",
     "output_type": "stream",
     "text": [
      "date                  0\n",
      "store_id              0\n",
      "product_id            0\n",
      "category              0\n",
      "region                0\n",
      "units_sold            0\n",
      "units_ordered         0\n",
      "price                 0\n",
      "discount              0\n",
      "weather_condition     0\n",
      "holiday_promotion     0\n",
      "competitor_pricing    0\n",
      "seasonality           0\n",
      "series_id             0\n",
      "dtype: int64\n"
     ]
    }
   ],
   "source": [
    "# Re-scan for NaNs created by our dtype coercion\n",
    "print(df.isna().sum())"
   ]
  },
  {
   "cell_type": "markdown",
   "id": "548966cd-a6a9-458e-9360-5fc1f1d32d58",
   "metadata": {},
   "source": [
    "Tidak terdapat null values. Code dibawah adalah contoh handling jika ada missing values"
   ]
  },
  {
   "cell_type": "code",
   "execution_count": 16,
   "id": "b9c71b83-26e9-40de-bbe6-2c9fd798f890",
   "metadata": {},
   "outputs": [],
   "source": [
    "# Contoh kl misal ada missing values\n",
    "\n",
    "# 1. Create identifier null or not before filling to retain original data\n",
    "for col in df.columns:\n",
    "    if df[col].isna().any():\n",
    "        df[f\"{col}_is_null\"] = df[col].isna()\n",
    "        \n",
    "# 2. Create fill rules\n",
    "fill_rules = {\n",
    "    \"units_sold\"      : 0,     # assume no sale\n",
    "    \"units_ordered\"   : 0, # assume no PO\n",
    "    \"price\"           : df[\"price\"].median(),\n",
    "    \"discount\"        : 0,\n",
    "    \"competitor_pricing\" : df[\"competitor_pricing\"].median(),\n",
    "}\n",
    "\n",
    "df = df.fillna(value=fill_rules)\n",
    "\n",
    "# 3. Fillna Categorical NaNs → 'Unknown'\n",
    "for c in df.select_dtypes(\"category\"):\n",
    "    if df[c].isna().any():\n",
    "        df[c] = df[c].cat.add_categories(\"Unknown\").fillna(\"Unknown\")"
   ]
  },
  {
   "cell_type": "markdown",
   "id": "f4804ff6-f00b-4a28-ae36-b4078a93e60a",
   "metadata": {},
   "source": [
    "## Outlier Checking"
   ]
  },
  {
   "cell_type": "markdown",
   "id": "b45dc2f1-a200-4d5a-94a2-e15b8743dfa5",
   "metadata": {},
   "source": [
    "Outlier checking menggunakan metode IQR dengan whisker 1.5"
   ]
  },
  {
   "cell_type": "code",
   "execution_count": 17,
   "id": "89a0d7aa-41c4-4737-9dde-bc97a008a960",
   "metadata": {},
   "outputs": [],
   "source": [
    "def add_outlier_flags(\n",
    "        data: pd.DataFrame,\n",
    "        numeric_cols: list[str] | None = None,\n",
    "        group_cols:  list[str] | None = None,\n",
    "        whisker: float = 1.5\n",
    "    ) -> pd.DataFrame:\n",
    "    \"\"\"\n",
    "    Adds a boolean `<col>_is_outlier` flag to *data* for each numeric column.\n",
    "\n",
    "    Parameters\n",
    "    ----------\n",
    "    data : pd.DataFrame\n",
    "        DataFrame to operate on (Flag columns are added in-place & returned).\n",
    "    numeric_cols : list[str] | None\n",
    "        If None, detect all numeric dtypes automatically.\n",
    "    group_cols : list[str] | None\n",
    "        Columns to group by before computing IQR fences.\n",
    "        • []  or None  → global fences over the entire column\n",
    "        • [\"Store ID\"] → per-store fences … etc.\n",
    "    whisker : float\n",
    "        Multiplier for IQR; 1.5 ≡ Tukey’s default.\n",
    "\n",
    "    Returns\n",
    "    -------\n",
    "    pd.DataFrame  (same object, for chaining convenience)\n",
    "    \"\"\"\n",
    "    if numeric_cols is None:\n",
    "        numeric_cols = data.select_dtypes(include=\"number\").columns.tolist()\n",
    "\n",
    "    # Work on a copy of index to broadcast flags back\n",
    "    flags = pd.DataFrame(index=data.index)\n",
    "\n",
    "    if not group_cols:\n",
    "        # -------- global IQR fences --------\n",
    "        for col in numeric_cols:\n",
    "            q1, q3 = data[col].quantile([0.25, 0.75])\n",
    "            iqr  = q3 - q1\n",
    "            lo   = q1 - whisker * iqr\n",
    "            hi   = q3 + whisker * iqr\n",
    "            flags[f\"{col}_is_outlier\"] = (data[col] < lo) | (data[col] > hi)\n",
    "    else:\n",
    "        # -------- group-wise IQR fences --------\n",
    "        grouped = data.groupby(group_cols, observed=True, dropna=False)\n",
    "        for col in numeric_cols:\n",
    "            # Compute group stats and re-index back to original rows\n",
    "            q1 = grouped[col].transform(\"quantile\", 0.25)\n",
    "            q3 = grouped[col].transform(\"quantile\", 0.75)\n",
    "            iqr = q3 - q1\n",
    "            lo  = q1 - whisker * iqr\n",
    "            hi  = q3 + whisker * iqr\n",
    "            flags[f\"{col}_is_outlier\"] = (data[col] < lo) | (data[col] > hi)\n",
    "\n",
    "    # Attach the flags\n",
    "    for c in flags.columns:\n",
    "        data[c] = flags[c].astype(bool)\n",
    "\n",
    "    return data"
   ]
  },
  {
   "cell_type": "code",
   "execution_count": 18,
   "id": "8d0cf567-87bc-439b-b7ae-c1ed5bb61b09",
   "metadata": {},
   "outputs": [],
   "source": [
    "# Add outlier flag\n",
    "df = add_outlier_flags(data = df, whisker = 1.5, group_cols = [\"series_id\"])"
   ]
  },
  {
   "cell_type": "code",
   "execution_count": 19,
   "id": "49a291d9-81aa-4150-a475-ad8ecbffa01e",
   "metadata": {},
   "outputs": [
    {
     "name": "stdout",
     "output_type": "stream",
     "text": [
      "Outlier percentage (%) per column\n",
      "——————————————————————————————————\n",
      "units_sold                :   1.11\n",
      "units_ordered             :   0.00\n",
      "price                     :   0.00\n",
      "discount                  :   0.00\n",
      "competitor_pricing        :   0.00\n"
     ]
    }
   ],
   "source": [
    "# Print percentage outlier\n",
    "numeric_cols = df.select_dtypes(include=\"number\").columns.tolist()\n",
    "\n",
    "pct_dict = {}\n",
    "total = len(df)\n",
    "for col in numeric_cols:\n",
    "    flag = f\"{col}_is_outlier\"\n",
    "    if flag in df.columns:\n",
    "        pct_dict[col] = round(df[flag].mean() * 100, 2)\n",
    "\n",
    "# Print percentage outlier\n",
    "print(\"Outlier percentage (%) per column\")\n",
    "print(\"—\" * 34)\n",
    "for col, pct in sorted(pct_dict.items(), key=lambda x: -x[1]):\n",
    "    print(f\"{col:<25s} : {pct:>6.2f}\")"
   ]
  },
  {
   "cell_type": "markdown",
   "id": "654031c8-01a3-4da7-a68a-f8235f30b373",
   "metadata": {},
   "source": [
    "Pada units sold terdapat outlier sejumlah 1.11%. Outlier detection menggunakan group by store & product karena ada produk yang fast moving, slow moving begitu juga dengan store ada store yang besar maupun store kecil"
   ]
  },
  {
   "cell_type": "code",
   "execution_count": 20,
   "id": "8e0ca23f-919a-421c-a7b4-5decd913fe47",
   "metadata": {},
   "outputs": [
    {
     "name": "stdout",
     "output_type": "stream",
     "text": [
      "series_id\n",
      "S004_P0012    23\n",
      "S003_P0018    22\n",
      "S004_P0007    22\n",
      "dtype: int64\n"
     ]
    },
    {
     "data": {
      "image/png": "[encoded data removed]",
      "text/plain": [
       "<Figure size 800x500 with 1 Axes>"
      ]
     },
     "metadata": {},
     "output_type": "display_data"
    },
    {
     "data": {
      "image/png": "[encoded data removed]",
      "text/plain": [
       "<Figure size 800x500 with 1 Axes>"
      ]
     },
     "metadata": {},
     "output_type": "display_data"
    },
    {
     "data": {
      "image/png": "[encoded data removed]",
      "text/plain": [
       "<Figure size 800x500 with 1 Axes>"
      ]
     },
     "metadata": {},
     "output_type": "display_data"
    }
   ],
   "source": [
    "# Cari 3 store x product yg punya outlier terbanyak\n",
    "outlier_counts = (\n",
    "    df[df['units_sold_is_outlier']]\n",
    "      .groupby(['series_id'])\n",
    "      .size()\n",
    "      .sort_values(ascending=False)\n",
    ")\n",
    "top3 = outlier_counts.head(3)\n",
    "print(top3)\n",
    "\n",
    "# Plot outlier\n",
    "for series_id, _ in top3.items():\n",
    "    subset = df[(df['series_id'] == series_id)]\n",
    "    label = f\"{series_id}\"\n",
    "    \n",
    "    plt.figure(figsize=(8, 5))\n",
    "    sns.boxplot(y=subset['units_sold'])\n",
    "    plt.title(f\"Units Sold – {label}\")\n",
    "    plt.ylabel(\"units_sold\")\n",
    "    plt.xlabel(\"\")\n",
    "    plt.tight_layout()\n",
    "    plt.show()"
   ]
  },
  {
   "cell_type": "markdown",
   "id": "438b9163-3c26-4bc6-bf63-fe4b3cf86c9e",
   "metadata": {},
   "source": [
    "Interpretasi plot\n",
    "- Data point yang diluar garis horizontal hitam adalah outlier"
   ]
  },
  {
   "cell_type": "markdown",
   "id": "272257d8-107a-46bc-b07c-a4775223d181",
   "metadata": {},
   "source": [
    "# Wrap Up and Save the Data"
   ]
  },
  {
   "cell_type": "code",
   "execution_count": 21,
   "id": "68af0957-4650-4362-8de8-96d5f377e19d",
   "metadata": {},
   "outputs": [],
   "source": [
    "df.to_parquet(\"data/preprocessed/df_preprocessed.parquet\", index = False)"
   ]
  },
  {
   "cell_type": "code",
   "execution_count": null,
   "id": "f94128db-bb79-4bf2-a4d4-38a6c625f916",
   "metadata": {},
   "outputs": [],
   "source": []
  }
 ],
 "metadata": {
  "kernelspec": {
   "display_name": "KN - Avatar",
   "language": "python",
   "name": "avatar"
  },
  "language_info": {
   "codemirror_mode": {
    "name": "ipython",
    "version": 3
   },
   "file_extension": ".py",
   "mimetype": "text/x-python",
   "name": "python",
   "nbconvert_exporter": "python",
   "pygments_lexer": "ipython3",
   "version": "3.10.11"
  }
 },
 "nbformat": 4,
 "nbformat_minor": 5
}
