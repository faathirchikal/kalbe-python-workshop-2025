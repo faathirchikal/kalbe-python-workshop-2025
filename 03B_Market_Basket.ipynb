{
 "cells": [
  {
   "cell_type": "code",
   "execution_count": 18,
   "id": "9a4a71fe-2793-4d62-964f-6614efd34469",
   "metadata": {},
   "outputs": [],
   "source": [
    "import pandas as pd\n",
    "\n",
    "from mlxtend.frequent_patterns import fpgrowth, association_rules"
   ]
  },
  {
   "cell_type": "code",
   "execution_count": 19,
   "id": "da54bfd6-5cf9-4c3a-b32e-478337466c29",
   "metadata": {},
   "outputs": [],
   "source": [
    "df = pd.read_parquet('data/preprocessed/cleaned_data.parquet')\n",
    "\n",
    "df = df[(~df['order_id_cancelled'])&(~df['order_id_adjustment'])&(~df['sku_id_no_digit'])]\n",
    "df = df[['order_id','sku_name','order_date_only','quantity']]\n",
    "\n",
    "# --- Parameters\n",
    "MIN_SUPPORT    = 0.01   # 1% minimum support\n",
    "MIN_CONFIDENCE = 0.30   # 30% minimum confidence\n",
    "MIN_LIFT       = 1.20   # 1.2 minimum lift\n",
    "\n",
    "# --- Step 1: Filter last 3 months\n",
    "df['order_date_only'] = pd.to_datetime(df['order_date_only'])\n",
    "max_date    = df['order_date_only'].max()\n",
    "cutoff_date = max_date - pd.DateOffset(months=3)\n",
    "df_recent   = df[df['order_date_only'] >= cutoff_date]\n",
    "\n",
    "# --- Step 2: Build boolean basket\n",
    "basket = (\n",
    "    df_recent\n",
    "    .groupby(['order_id','sku_name'])['quantity']\n",
    "    .sum()\n",
    "    .unstack(fill_value=0)\n",
    "    .astype(bool)\n",
    ")\n",
    "\n",
    "# --- Step 3: Mine frequent itemsets up to size 3\n",
    "frequent_itemsets = fpgrowth(\n",
    "    basket,\n",
    "    min_support=MIN_SUPPORT,\n",
    "    use_colnames=True,\n",
    "    max_len=3\n",
    ")\n",
    "\n",
    "# --- Step 4: Generate association rules with min_confidence\n",
    "rules = association_rules(\n",
    "    frequent_itemsets,\n",
    "    metric=\"confidence\",\n",
    "    min_threshold=MIN_CONFIDENCE\n",
    ")\n",
    "\n",
    "# --- Step 5: Optional lift filter & size filter\n",
    "rules = (\n",
    "    rules[\n",
    "        (rules['lift'] >= MIN_LIFT) &\n",
    "        (rules['antecedents'].apply(len).isin([1,2]))  # 1→1 gives 2-item rules; 2→1 gives 3-item\n",
    "    ]\n",
    "    .copy()\n",
    ")\n",
    "\n",
    "# --- Step 6: Sort by confidence descending\n",
    "rules_sorted = rules.sort_values('confidence', ascending=False).reset_index(drop=True)\n",
    "\n",
    "# --- Step 7: Tidy up for display\n",
    "rules_sorted['antecedents'] = rules_sorted['antecedents'].apply(lambda s: ', '.join(s))\n",
    "rules_sorted['consequents'] = rules_sorted['consequents'].apply(lambda s: ', '.join(s))\n",
    "display_cols = ['antecedents','consequents','support','confidence','lift']\n",
    "\n",
    "rules_sorted[['antecedents','consequents','support','confidence']].to_parquet('data/preprocessed/market_basket.parquet')"
   ]
  },
  {
   "cell_type": "code",
   "execution_count": null,
   "id": "9d797a63-3c63-42ed-ad1b-a158e250aead",
   "metadata": {},
   "outputs": [],
   "source": []
  }
 ],
 "metadata": {
  "kernelspec": {
   "display_name": "Python 3 (ipykernel)",
   "language": "python",
   "name": "python3"
  },
  "language_info": {
   "codemirror_mode": {
    "name": "ipython",
    "version": 3
   },
   "file_extension": ".py",
   "mimetype": "text/x-python",
   "name": "python",
   "nbconvert_exporter": "python",
   "pygments_lexer": "ipython3",
   "version": "3.11.11"
  }
 },
 "nbformat": 4,
 "nbformat_minor": 5
}
