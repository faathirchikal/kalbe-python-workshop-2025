{
 "cells": [
  {
   "cell_type": "markdown",
   "id": "572c8a3e-320b-450e-92a3-12cc4e36477b",
   "metadata": {},
   "source": [
    "# Libraries"
   ]
  },
  {
   "cell_type": "code",
   "execution_count": 1,
   "id": "9e56f407-d6be-4c0f-97b3-1740a39f102b",
   "metadata": {},
   "outputs": [],
   "source": [
    "import pandas as pd\n",
    "import matplotlib.pyplot as plt\n",
    "import seaborn as sns"
   ]
  },
  {
   "cell_type": "markdown",
   "id": "9b31999a-4327-43d2-afda-7ef2e1b4a85d",
   "metadata": {},
   "source": [
    "# Import Data"
   ]
  },
  {
   "cell_type": "code",
   "execution_count": 2,
   "id": "51345333-2e76-4094-85e2-9c4b751cc7c9",
   "metadata": {},
   "outputs": [
    {
     "data": {
      "text/html": [
       "<div>\n",
       "<style scoped>\n",
       "    .dataframe tbody tr th:only-of-type {\n",
       "        vertical-align: middle;\n",
       "    }\n",
       "\n",
       "    .dataframe tbody tr th {\n",
       "        vertical-align: top;\n",
       "    }\n",
       "\n",
       "    .dataframe thead th {\n",
       "        text-align: right;\n",
       "    }\n",
       "</style>\n",
       "<table border=\"1\" class=\"dataframe\">\n",
       "  <thead>\n",
       "    <tr style=\"text-align: right;\">\n",
       "      <th></th>\n",
       "      <th>Date</th>\n",
       "      <th>Store ID</th>\n",
       "      <th>Product ID</th>\n",
       "      <th>Category</th>\n",
       "      <th>Region</th>\n",
       "      <th>Inventory Level</th>\n",
       "      <th>Units Sold</th>\n",
       "      <th>Units Ordered</th>\n",
       "      <th>Demand Forecast</th>\n",
       "      <th>Price</th>\n",
       "      <th>Discount</th>\n",
       "      <th>Weather Condition</th>\n",
       "      <th>Holiday/Promotion</th>\n",
       "      <th>Competitor Pricing</th>\n",
       "      <th>Seasonality</th>\n",
       "    </tr>\n",
       "  </thead>\n",
       "  <tbody>\n",
       "    <tr>\n",
       "      <th>0</th>\n",
       "      <td>2022-01-01</td>\n",
       "      <td>S001</td>\n",
       "      <td>P0001</td>\n",
       "      <td>Groceries</td>\n",
       "      <td>North</td>\n",
       "      <td>231</td>\n",
       "      <td>127</td>\n",
       "      <td>55</td>\n",
       "      <td>135.47</td>\n",
       "      <td>33.50</td>\n",
       "      <td>20</td>\n",
       "      <td>Rainy</td>\n",
       "      <td>0</td>\n",
       "      <td>29.69</td>\n",
       "      <td>Autumn</td>\n",
       "    </tr>\n",
       "    <tr>\n",
       "      <th>1</th>\n",
       "      <td>2022-01-01</td>\n",
       "      <td>S001</td>\n",
       "      <td>P0002</td>\n",
       "      <td>Toys</td>\n",
       "      <td>South</td>\n",
       "      <td>204</td>\n",
       "      <td>150</td>\n",
       "      <td>66</td>\n",
       "      <td>144.04</td>\n",
       "      <td>63.01</td>\n",
       "      <td>20</td>\n",
       "      <td>Sunny</td>\n",
       "      <td>0</td>\n",
       "      <td>66.16</td>\n",
       "      <td>Autumn</td>\n",
       "    </tr>\n",
       "    <tr>\n",
       "      <th>2</th>\n",
       "      <td>2022-01-01</td>\n",
       "      <td>S001</td>\n",
       "      <td>P0003</td>\n",
       "      <td>Toys</td>\n",
       "      <td>West</td>\n",
       "      <td>102</td>\n",
       "      <td>65</td>\n",
       "      <td>51</td>\n",
       "      <td>74.02</td>\n",
       "      <td>27.99</td>\n",
       "      <td>10</td>\n",
       "      <td>Sunny</td>\n",
       "      <td>1</td>\n",
       "      <td>31.32</td>\n",
       "      <td>Summer</td>\n",
       "    </tr>\n",
       "    <tr>\n",
       "      <th>3</th>\n",
       "      <td>2022-01-01</td>\n",
       "      <td>S001</td>\n",
       "      <td>P0004</td>\n",
       "      <td>Toys</td>\n",
       "      <td>North</td>\n",
       "      <td>469</td>\n",
       "      <td>61</td>\n",
       "      <td>164</td>\n",
       "      <td>62.18</td>\n",
       "      <td>32.72</td>\n",
       "      <td>10</td>\n",
       "      <td>Cloudy</td>\n",
       "      <td>1</td>\n",
       "      <td>34.74</td>\n",
       "      <td>Autumn</td>\n",
       "    </tr>\n",
       "    <tr>\n",
       "      <th>4</th>\n",
       "      <td>2022-01-01</td>\n",
       "      <td>S001</td>\n",
       "      <td>P0005</td>\n",
       "      <td>Electronics</td>\n",
       "      <td>East</td>\n",
       "      <td>166</td>\n",
       "      <td>14</td>\n",
       "      <td>135</td>\n",
       "      <td>9.26</td>\n",
       "      <td>73.64</td>\n",
       "      <td>0</td>\n",
       "      <td>Sunny</td>\n",
       "      <td>0</td>\n",
       "      <td>68.95</td>\n",
       "      <td>Summer</td>\n",
       "    </tr>\n",
       "  </tbody>\n",
       "</table>\n",
       "</div>"
      ],
      "text/plain": [
       "         Date Store ID Product ID     Category Region  Inventory Level  \\\n",
       "0  2022-01-01     S001      P0001    Groceries  North              231   \n",
       "1  2022-01-01     S001      P0002         Toys  South              204   \n",
       "2  2022-01-01     S001      P0003         Toys   West              102   \n",
       "3  2022-01-01     S001      P0004         Toys  North              469   \n",
       "4  2022-01-01     S001      P0005  Electronics   East              166   \n",
       "\n",
       "   Units Sold  Units Ordered  Demand Forecast  Price  Discount  \\\n",
       "0         127             55           135.47  33.50        20   \n",
       "1         150             66           144.04  63.01        20   \n",
       "2          65             51            74.02  27.99        10   \n",
       "3          61            164            62.18  32.72        10   \n",
       "4          14            135             9.26  73.64         0   \n",
       "\n",
       "  Weather Condition  Holiday/Promotion  Competitor Pricing Seasonality  \n",
       "0             Rainy                  0               29.69      Autumn  \n",
       "1             Sunny                  0               66.16      Autumn  \n",
       "2             Sunny                  1               31.32      Summer  \n",
       "3            Cloudy                  1               34.74      Autumn  \n",
       "4             Sunny                  0               68.95      Summer  "
      ]
     },
     "execution_count": 2,
     "metadata": {},
     "output_type": "execute_result"
    }
   ],
   "source": [
    "df = pd.read_csv(\"data/raw/retail_store_inventory.csv\") # Load csv data\n",
    "df.head() # see snipset data"
   ]
  },
  {
   "cell_type": "markdown",
   "id": "70d7a340-9f80-4906-b0e5-13278f81143d",
   "metadata": {},
   "source": [
    "# Data Inspection "
   ]
  },
  {
   "cell_type": "markdown",
   "id": "37b4f2be-f1f2-460b-b2a7-7a70b2312b7f",
   "metadata": {},
   "source": [
    "## Data Structure"
   ]
  },
  {
   "cell_type": "code",
   "execution_count": 3,
   "id": "18858199-c1dd-4b39-a8dd-9ad6bb9aa832",
   "metadata": {},
   "outputs": [
    {
     "name": "stdout",
     "output_type": "stream",
     "text": [
      "Shape: (73100, 15)\n",
      "<class 'pandas.core.frame.DataFrame'>\n",
      "RangeIndex: 73100 entries, 0 to 73099\n",
      "Data columns (total 15 columns):\n",
      " #   Column              Non-Null Count  Dtype  \n",
      "---  ------              --------------  -----  \n",
      " 0   Date                73100 non-null  object \n",
      " 1   Store ID            73100 non-null  object \n",
      " 2   Product ID          73100 non-null  object \n",
      " 3   Category            73100 non-null  object \n",
      " 4   Region              73100 non-null  object \n",
      " 5   Inventory Level     73100 non-null  int64  \n",
      " 6   Units Sold          73100 non-null  int64  \n",
      " 7   Units Ordered       73100 non-null  int64  \n",
      " 8   Demand Forecast     73100 non-null  float64\n",
      " 9   Price               73100 non-null  float64\n",
      " 10  Discount            73100 non-null  int64  \n",
      " 11  Weather Condition   73100 non-null  object \n",
      " 12  Holiday/Promotion   73100 non-null  int64  \n",
      " 13  Competitor Pricing  73100 non-null  float64\n",
      " 14  Seasonality         73100 non-null  object \n",
      "dtypes: float64(3), int64(5), object(7)\n",
      "memory usage: 8.4+ MB\n"
     ]
    }
   ],
   "source": [
    "print(\"Shape:\", df.shape)            # rows × cols \n",
    "df.info()                            # dtypes + non-null counts"
   ]
  },
  {
   "cell_type": "markdown",
   "id": "3b8e7f19-cbcb-4e19-833b-d141f7170779",
   "metadata": {},
   "source": [
    "- Terdapat 73.100 baris data\n",
    "- Terdapat 15 kolom\n",
    "- Tidak ada null values dari setiap kolom "
   ]
  },
  {
   "cell_type": "markdown",
   "id": "49d30606-20e5-4865-8136-51b38937aa36",
   "metadata": {},
   "source": [
    "## Correcting Data Format"
   ]
  },
  {
   "cell_type": "markdown",
   "id": "4a51837f-e1e1-4662-ba08-aeccb7a4c891",
   "metadata": {},
   "source": [
    "- Kolom \"Date\" masih dalam bentuk string sehingga perlu diubah\n",
    "- (optional) Mengubah kolom Nominal & ID menjadi type categorical\n",
    "- (optional) Mengubah kolom boolean menjadi type boolean\n",
    "- (optional) Convert kolom numeric "
   ]
  },
  {
   "cell_type": "code",
   "execution_count": 4,
   "id": "e80b286e-311c-45ab-ad21-c88bec486594",
   "metadata": {},
   "outputs": [],
   "source": [
    "# Change date column from object to datetime\n",
    "df[\"Date\"] = pd.to_datetime(df[\"Date\"])               \n",
    "\n",
    "# Change Nominals & IDs from object to category → category to shrink memory and speed joins\n",
    "cat_cols = [\"Store ID\", \"Product ID\", \"Category\",\n",
    "            \"Region\", \"Weather Condition\", \"Seasonality\"]\n",
    "df[cat_cols] = df[cat_cols].astype(\"category\")\n",
    "\n",
    "# Change Binary flag to boolean\n",
    "df[\"Holiday/Promotion\"] = df[\"Holiday/Promotion\"].astype(\"bool\")\n",
    "\n",
    "# Make sure numeric columns are truly numeric\n",
    "num_cols = [\"Inventory Level\", \"Units Sold\", \"Units Ordered\",\n",
    "            \"Demand Forecast\", \"Price\", \"Discount\",\n",
    "            \"Competitor Pricing\"]\n",
    "df[num_cols] = df[num_cols].apply(pd.to_numeric, errors=\"coerce\")"
   ]
  },
  {
   "cell_type": "code",
   "execution_count": 5,
   "id": "edf63d24-bb63-4da3-9fd2-a93a6f8d9397",
   "metadata": {},
   "outputs": [
    {
     "name": "stdout",
     "output_type": "stream",
     "text": [
      "<class 'pandas.core.frame.DataFrame'>\n",
      "RangeIndex: 73100 entries, 0 to 73099\n",
      "Data columns (total 15 columns):\n",
      " #   Column              Non-Null Count  Dtype         \n",
      "---  ------              --------------  -----         \n",
      " 0   Date                73100 non-null  datetime64[ns]\n",
      " 1   Store ID            73100 non-null  category      \n",
      " 2   Product ID          73100 non-null  category      \n",
      " 3   Category            73100 non-null  category      \n",
      " 4   Region              73100 non-null  category      \n",
      " 5   Inventory Level     73100 non-null  int64         \n",
      " 6   Units Sold          73100 non-null  int64         \n",
      " 7   Units Ordered       73100 non-null  int64         \n",
      " 8   Demand Forecast     73100 non-null  float64       \n",
      " 9   Price               73100 non-null  float64       \n",
      " 10  Discount            73100 non-null  int64         \n",
      " 11  Weather Condition   73100 non-null  category      \n",
      " 12  Holiday/Promotion   73100 non-null  bool          \n",
      " 13  Competitor Pricing  73100 non-null  float64       \n",
      " 14  Seasonality         73100 non-null  category      \n",
      "dtypes: bool(1), category(6), datetime64[ns](1), float64(3), int64(4)\n",
      "memory usage: 5.0 MB\n"
     ]
    }
   ],
   "source": [
    "df.info()"
   ]
  },
  {
   "cell_type": "markdown",
   "id": "e36311cc-b50c-4b00-9bc4-d84294d45db4",
   "metadata": {},
   "source": [
    "## Filtering Out Irrelevant Variables"
   ]
  },
  {
   "cell_type": "markdown",
   "id": "5aeee3b9-5fc4-473b-b8c7-f3a43ef0fe3f",
   "metadata": {},
   "source": [
    "Drop kolom yang tidak diperlukan untuk forecasting"
   ]
  },
  {
   "cell_type": "code",
   "execution_count": 6,
   "id": "109b1cc3-df73-4108-8f63-57d5b292dbd6",
   "metadata": {},
   "outputs": [],
   "source": [
    "drop_columns = [\"Inventory Level\", \"Demand Forecast\"]\n",
    "df.drop(columns = drop_columns, inplace = True)"
   ]
  },
  {
   "cell_type": "markdown",
   "id": "bc536e97-1e89-4e48-85d2-142a9d521bf8",
   "metadata": {},
   "source": [
    "## Missing Value"
   ]
  },
  {
   "cell_type": "code",
   "execution_count": 7,
   "id": "a71e226d-09e2-44e9-b284-91075d0d39b7",
   "metadata": {},
   "outputs": [
    {
     "name": "stdout",
     "output_type": "stream",
     "text": [
      "Date                  0\n",
      "Store ID              0\n",
      "Product ID            0\n",
      "Category              0\n",
      "Region                0\n",
      "Units Sold            0\n",
      "Units Ordered         0\n",
      "Price                 0\n",
      "Discount              0\n",
      "Weather Condition     0\n",
      "Holiday/Promotion     0\n",
      "Competitor Pricing    0\n",
      "Seasonality           0\n",
      "dtype: int64\n"
     ]
    }
   ],
   "source": [
    "# Re-scan for NaNs created by our dtype coercion\n",
    "print(df.isna().sum())"
   ]
  },
  {
   "cell_type": "markdown",
   "id": "548966cd-a6a9-458e-9360-5fc1f1d32d58",
   "metadata": {},
   "source": [
    "Tidak terdapat null values. Code dibawah adalah contoh handling jika ada missing values"
   ]
  },
  {
   "cell_type": "code",
   "execution_count": 8,
   "id": "b9c71b83-26e9-40de-bbe6-2c9fd798f890",
   "metadata": {},
   "outputs": [],
   "source": [
    "# Contoh kl misal ada missing values\n",
    "\n",
    "# 1. Create identifier null or not before filling to retain original data\n",
    "for col in df.columns:\n",
    "    if df[col].isna().any():\n",
    "        df[f\"{col}_is_null\"] = df[col].isna()\n",
    "        \n",
    "# 2. Create fill rules\n",
    "fill_rules = {\n",
    "    \"Units Sold\"      : 0,                               # target: assume no sale\n",
    "    \"Price\"           : df[\"Price\"].median(),\n",
    "    \"Discount\"        : 0,\n",
    "}\n",
    "\n",
    "df = df.fillna(value=fill_rules)\n",
    "\n",
    "# 3. Fillna Categorical NaNs → 'Unknown'\n",
    "for c in df.select_dtypes(\"category\"):\n",
    "    if df[c].isna().any():\n",
    "        df[c] = df[c].cat.add_categories(\"Unknown\").fillna(\"Unknown\")"
   ]
  },
  {
   "cell_type": "markdown",
   "id": "f4804ff6-f00b-4a28-ae36-b4078a93e60a",
   "metadata": {},
   "source": [
    "## Outlier Checking"
   ]
  },
  {
   "cell_type": "markdown",
   "id": "b45dc2f1-a200-4d5a-94a2-e15b8743dfa5",
   "metadata": {},
   "source": [
    "Outlier checking menggunakan metode IQR dengan whisker 1.5"
   ]
  },
  {
   "cell_type": "code",
   "execution_count": 9,
   "id": "89a0d7aa-41c4-4737-9dde-bc97a008a960",
   "metadata": {},
   "outputs": [],
   "source": [
    "def add_outlier_flags(\n",
    "        data: pd.DataFrame,\n",
    "        numeric_cols: list[str] | None = None,\n",
    "        group_cols:  list[str] | None = None,\n",
    "        whisker: float = 1.5\n",
    "    ) -> pd.DataFrame:\n",
    "    \"\"\"\n",
    "    Adds a boolean `<col>_is_outlier` flag to *data* for each numeric column.\n",
    "\n",
    "    Parameters\n",
    "    ----------\n",
    "    data : pd.DataFrame\n",
    "        DataFrame to operate on (Flag columns are added in-place & returned).\n",
    "    numeric_cols : list[str] | None\n",
    "        If None, detect all numeric dtypes automatically.\n",
    "    group_cols : list[str] | None\n",
    "        Columns to group by before computing IQR fences.\n",
    "        • []  or None  → global fences over the entire column\n",
    "        • [\"Store ID\"] → per-store fences … etc.\n",
    "    whisker : float\n",
    "        Multiplier for IQR; 1.5 ≡ Tukey’s default.\n",
    "\n",
    "    Returns\n",
    "    -------\n",
    "    pd.DataFrame  (same object, for chaining convenience)\n",
    "    \"\"\"\n",
    "    if numeric_cols is None:\n",
    "        numeric_cols = data.select_dtypes(include=\"number\").columns.tolist()\n",
    "\n",
    "    # Work on a copy of index to broadcast flags back\n",
    "    flags = pd.DataFrame(index=data.index)\n",
    "\n",
    "    if not group_cols:\n",
    "        # -------- global IQR fences --------\n",
    "        for col in numeric_cols:\n",
    "            q1, q3 = data[col].quantile([0.25, 0.75])\n",
    "            iqr  = q3 - q1\n",
    "            lo   = q1 - whisker * iqr\n",
    "            hi   = q3 + whisker * iqr\n",
    "            flags[f\"{col}_is_outlier\"] = (data[col] < lo) | (data[col] > hi)\n",
    "    else:\n",
    "        # -------- group-wise IQR fences --------\n",
    "        grouped = data.groupby(group_cols, observed=True, dropna=False)\n",
    "        for col in numeric_cols:\n",
    "            # Compute group stats and re-index back to original rows\n",
    "            q1 = grouped[col].transform(\"quantile\", 0.25)\n",
    "            q3 = grouped[col].transform(\"quantile\", 0.75)\n",
    "            iqr = q3 - q1\n",
    "            lo  = q1 - whisker * iqr\n",
    "            hi  = q3 + whisker * iqr\n",
    "            flags[f\"{col}_is_outlier\"] = (data[col] < lo) | (data[col] > hi)\n",
    "\n",
    "    # Attach the flags\n",
    "    for c in flags.columns:\n",
    "        data[c] = flags[c].astype(bool)\n",
    "\n",
    "    return data"
   ]
  },
  {
   "cell_type": "code",
   "execution_count": 10,
   "id": "8d0cf567-87bc-439b-b7ae-c1ed5bb61b09",
   "metadata": {},
   "outputs": [],
   "source": [
    "# Add outlier flag\n",
    "df = add_outlier_flags(data = df, whisker = 1.5, group_cols = [\"Store ID\", \"Product ID\"])"
   ]
  },
  {
   "cell_type": "code",
   "execution_count": 11,
   "id": "49a291d9-81aa-4150-a475-ad8ecbffa01e",
   "metadata": {},
   "outputs": [
    {
     "name": "stdout",
     "output_type": "stream",
     "text": [
      "Outlier percentage (%) per column\n",
      "——————————————————————————————————\n",
      "Units Sold                :   1.11\n",
      "Units Ordered             :   0.00\n",
      "Price                     :   0.00\n",
      "Discount                  :   0.00\n",
      "Competitor Pricing        :   0.00\n"
     ]
    }
   ],
   "source": [
    "# Print percentage outlier\n",
    "numeric_cols = df.select_dtypes(include=\"number\").columns.tolist()\n",
    "\n",
    "pct_dict = {}\n",
    "total = len(df)\n",
    "for col in numeric_cols:\n",
    "    flag = f\"{col}_is_outlier\"\n",
    "    if flag in df.columns:\n",
    "        pct_dict[col] = round(df[flag].mean() * 100, 2)\n",
    "\n",
    "# Print percentage outlier\n",
    "print(\"Outlier percentage (%) per column\")\n",
    "print(\"—\" * 34)\n",
    "for col, pct in sorted(pct_dict.items(), key=lambda x: -x[1]):\n",
    "    print(f\"{col:<25s} : {pct:>6.2f}\")"
   ]
  },
  {
   "cell_type": "markdown",
   "id": "654031c8-01a3-4da7-a68a-f8235f30b373",
   "metadata": {},
   "source": [
    "Pada units sold terdapat outlier sejumlah 1.11%. Outlier detection menggunakan group by store & product karena ada produk yang fast moving, slow moving begitu juga dengan store ada store yang besar maupun store kecil"
   ]
  },
  {
   "cell_type": "code",
   "execution_count": 12,
   "id": "8e0ca23f-919a-421c-a7b4-5decd913fe47",
   "metadata": {},
   "outputs": [
    {
     "name": "stdout",
     "output_type": "stream",
     "text": [
      "Store ID  Product ID\n",
      "S004      P0012         23\n",
      "          P0007         22\n",
      "S003      P0018         22\n",
      "dtype: int64\n"
     ]
    },
    {
     "name": "stderr",
     "output_type": "stream",
     "text": [
      "/tmp/ipykernel_3979402/3926438496.py:4: FutureWarning: The default of observed=False is deprecated and will be changed to True in a future version of pandas. Pass observed=False to retain current behavior or observed=True to adopt the future default and silence this warning.\n",
      "  .groupby(['Store ID', 'Product ID'])\n"
     ]
    },
    {
     "data": {
      "image/png": "[encoded data removed]",
      "text/plain": [
       "<Figure size 800x500 with 1 Axes>"
      ]
     },
     "metadata": {},
     "output_type": "display_data"
    },
    {
     "data": {
      "image/png": "[encoded data removed]",
      "text/plain": [
       "<Figure size 800x500 with 1 Axes>"
      ]
     },
     "metadata": {},
     "output_type": "display_data"
    },
    {
     "data": {
      "image/png": "[encoded data removed]",
      "text/plain": [
       "<Figure size 800x500 with 1 Axes>"
      ]
     },
     "metadata": {},
     "output_type": "display_data"
    }
   ],
   "source": [
    "# Cari 3 store x product yg punya outlier terbanyak\n",
    "outlier_counts = (\n",
    "    df[df['Units Sold_is_outlier']]\n",
    "      .groupby(['Store ID', 'Product ID'])\n",
    "      .size()\n",
    "      .sort_values(ascending=False)\n",
    ")\n",
    "top3 = outlier_counts.head(3)\n",
    "print(top3)\n",
    "\n",
    "# Plot outlier\n",
    "for (store_id, product_id), _ in top3.items():\n",
    "    subset = df[(df['Store ID'] == store_id) & (df['Product ID'] == product_id)]\n",
    "    label = f\"{store_id} | {product_id}\"\n",
    "    \n",
    "    plt.figure(figsize=(8, 5))\n",
    "    sns.boxplot(y=subset['Units Sold'])\n",
    "    plt.title(f\"Units Sold – {label}\")\n",
    "    plt.ylabel(\"Units Sold\")\n",
    "    plt.xlabel(\"\")\n",
    "    plt.tight_layout()\n",
    "    plt.show()"
   ]
  },
  {
   "cell_type": "markdown",
   "id": "438b9163-3c26-4bc6-bf63-fe4b3cf86c9e",
   "metadata": {},
   "source": [
    "Interpretasi plot\n",
    "- Data point yang diluar garis horizontal hitam adalah outlier"
   ]
  },
  {
   "cell_type": "markdown",
   "id": "272257d8-107a-46bc-b07c-a4775223d181",
   "metadata": {},
   "source": [
    "# Wrap Up and Save the Data"
   ]
  },
  {
   "cell_type": "code",
   "execution_count": 13,
   "id": "68af0957-4650-4362-8de8-96d5f377e19d",
   "metadata": {},
   "outputs": [],
   "source": [
    "df.to_parquet(\"data/preprocessed/df_preprocessed.parquet\", index = False)"
   ]
  }
 ],
 "metadata": {
  "kernelspec": {
   "display_name": "KN - Avatar",
   "language": "python",
   "name": "avatar"
  },
  "language_info": {
   "codemirror_mode": {
    "name": "ipython",
    "version": 3
   },
   "file_extension": ".py",
   "mimetype": "text/x-python",
   "name": "python",
   "nbconvert_exporter": "python",
   "pygments_lexer": "ipython3",
   "version": "3.10.11"
  }
 },
 "nbformat": 4,
 "nbformat_minor": 5
}
