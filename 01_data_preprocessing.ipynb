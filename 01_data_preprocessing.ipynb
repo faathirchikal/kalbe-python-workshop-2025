{
 "cells": [
  {
   "cell_type": "markdown",
   "id": "572c8a3e-320b-450e-92a3-12cc4e36477b",
   "metadata": {},
   "source": [
    "# Libraries"
   ]
  },
  {
   "cell_type": "code",
   "execution_count": null,
   "id": "9e56f407-d6be-4c0f-97b3-1740a39f102b",
   "metadata": {},
   "outputs": [],
   "source": []
  },
  {
   "cell_type": "markdown",
   "id": "9b31999a-4327-43d2-afda-7ef2e1b4a85d",
   "metadata": {},
   "source": [
    "# Import Data"
   ]
  },
  {
   "cell_type": "code",
   "execution_count": null,
   "id": "51345333-2e76-4094-85e2-9c4b751cc7c9",
   "metadata": {},
   "outputs": [],
   "source": []
  },
  {
   "cell_type": "markdown",
   "id": "70d7a340-9f80-4906-b0e5-13278f81143d",
   "metadata": {},
   "source": [
    "# Data Inspection "
   ]
  },
  {
   "cell_type": "code",
   "execution_count": null,
   "id": "9e361f27-a425-4ee4-9932-82cee453e006",
   "metadata": {},
   "outputs": [],
   "source": []
  },
  {
   "cell_type": "markdown",
   "id": "37b4f2be-f1f2-460b-b2a7-7a70b2312b7f",
   "metadata": {},
   "source": [
    "## Data Structure"
   ]
  },
  {
   "cell_type": "code",
   "execution_count": null,
   "id": "18858199-c1dd-4b39-a8dd-9ad6bb9aa832",
   "metadata": {},
   "outputs": [],
   "source": []
  },
  {
   "cell_type": "markdown",
   "id": "49d30606-20e5-4865-8136-51b38937aa36",
   "metadata": {},
   "source": [
    "## Correcting Data Format"
   ]
  },
  {
   "cell_type": "code",
   "execution_count": null,
   "id": "e80b286e-311c-45ab-ad21-c88bec486594",
   "metadata": {},
   "outputs": [],
   "source": []
  },
  {
   "cell_type": "markdown",
   "id": "e36311cc-b50c-4b00-9bc4-d84294d45db4",
   "metadata": {},
   "source": [
    "## Filtering Out Irrelevant Variables"
   ]
  },
  {
   "cell_type": "code",
   "execution_count": null,
   "id": "05e10ad9-3efc-4c0a-80a2-94d678c1efa1",
   "metadata": {},
   "outputs": [],
   "source": []
  },
  {
   "cell_type": "markdown",
   "id": "bc536e97-1e89-4e48-85d2-142a9d521bf8",
   "metadata": {},
   "source": [
    "## Missing Value"
   ]
  },
  {
   "cell_type": "code",
   "execution_count": null,
   "id": "a71e226d-09e2-44e9-b284-91075d0d39b7",
   "metadata": {},
   "outputs": [],
   "source": []
  },
  {
   "cell_type": "markdown",
   "id": "f4804ff6-f00b-4a28-ae36-b4078a93e60a",
   "metadata": {},
   "source": [
    "## Outlier Checking"
   ]
  },
  {
   "cell_type": "code",
   "execution_count": null,
   "id": "89a0d7aa-41c4-4737-9dde-bc97a008a960",
   "metadata": {},
   "outputs": [],
   "source": []
  },
  {
   "cell_type": "markdown",
   "id": "272257d8-107a-46bc-b07c-a4775223d181",
   "metadata": {},
   "source": [
    "# Wrap Up and Save the Data"
   ]
  },
  {
   "cell_type": "code",
   "execution_count": null,
   "id": "68af0957-4650-4362-8de8-96d5f377e19d",
   "metadata": {},
   "outputs": [],
   "source": []
  }
 ],
 "metadata": {
  "kernelspec": {
   "display_name": "Python 3 (ipykernel)",
   "language": "python",
   "name": "python3"
  },
  "language_info": {
   "codemirror_mode": {
    "name": "ipython",
    "version": 3
   },
   "file_extension": ".py",
   "mimetype": "text/x-python",
   "name": "python",
   "nbconvert_exporter": "python",
   "pygments_lexer": "ipython3",
   "version": "3.11.11"
  }
 },
 "nbformat": 4,
 "nbformat_minor": 5
}
