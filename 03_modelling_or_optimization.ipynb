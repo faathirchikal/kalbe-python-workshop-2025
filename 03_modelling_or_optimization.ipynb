{
 "cells": [
  {
   "cell_type": "markdown",
   "id": "bd0c3f67-c9a6-482c-af98-b2333bf4c995",
   "metadata": {},
   "source": [
    "# Libraries"
   ]
  },
  {
   "cell_type": "code",
   "execution_count": null,
   "id": "93616df4-6ef3-4085-92af-45c7078d8d70",
   "metadata": {},
   "outputs": [],
   "source": []
  },
  {
   "cell_type": "markdown",
   "id": "bd445448-5feb-404c-aae8-3cda7675fd0a",
   "metadata": {},
   "source": [
    "# Loading the DAta"
   ]
  },
  {
   "cell_type": "code",
   "execution_count": null,
   "id": "e4780808-1321-4734-8bc8-2b66e6b359de",
   "metadata": {},
   "outputs": [],
   "source": []
  }
 ],
 "metadata": {
  "kernelspec": {
   "display_name": "Python 3 (ipykernel)",
   "language": "python",
   "name": "python3"
  },
  "language_info": {
   "codemirror_mode": {
    "name": "ipython",
    "version": 3
   },
   "file_extension": ".py",
   "mimetype": "text/x-python",
   "name": "python",
   "nbconvert_exporter": "python",
   "pygments_lexer": "ipython3",
   "version": "3.11.11"
  }
 },
 "nbformat": 4,
 "nbformat_minor": 5
}
